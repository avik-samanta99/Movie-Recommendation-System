{
  "nbformat": 4,
  "nbformat_minor": 0,
  "metadata": {
    "colab": {
      "name": "MovieRecommenderSystem.ipynb",
      "provenance": [],
      "collapsed_sections": []
    },
    "kernelspec": {
      "name": "python3",
      "display_name": "Python 3"
    },
    "accelerator": "GPU"
  },
  "cells": [
    {
      "cell_type": "markdown",
      "metadata": {
        "id": "OnxeKVdASaIn"
      },
      "source": [
        "**Avik Samanta**  [Github](https://github.com/avik-samanta99)<br>\n",
        "DETS (Kalyani University)<br>\n",
        "Recommender system notebook<br>\n",
        "**Dataset** :- Kaggle's MovieLens small 100k dataset <br>\n",
        "Github link : [Note book](https://github.com/avik-samanta99/MovieRecommenderSystem)\n"
      ]
    },
    {
      "cell_type": "code",
      "metadata": {
        "id": "SrRrpCfvx_nG",
        "colab": {
          "base_uri": "https://localhost:8080/",
          "height": 121
        },
        "outputId": "c1e75b92-1a0d-4ebd-9155-e3c13d30b19d"
      },
      "source": [
        "from google.colab import drive\n",
        "drive.mount('/content/drive')"
      ],
      "execution_count": null,
      "outputs": [
        {
          "output_type": "stream",
          "text": [
            "Go to this URL in a browser: https://accounts.google.com/o/oauth2/auth?client_id=947318989803-6bn6qk8qdgf4n4g3pfee6491hc0brc4i.apps.googleusercontent.com&redirect_uri=urn%3aietf%3awg%3aoauth%3a2.0%3aoob&response_type=code&scope=email%20https%3a%2f%2fwww.googleapis.com%2fauth%2fdocs.test%20https%3a%2f%2fwww.googleapis.com%2fauth%2fdrive%20https%3a%2f%2fwww.googleapis.com%2fauth%2fdrive.photos.readonly%20https%3a%2f%2fwww.googleapis.com%2fauth%2fpeopleapi.readonly\n",
            "\n",
            "Enter your authorization code:\n",
            "··········\n",
            "Mounted at /content/drive\n"
          ],
          "name": "stdout"
        }
      ]
    },
    {
      "cell_type": "markdown",
      "metadata": {
        "id": "vZPCqmuCGdGe"
      },
      "source": [
        "### **A recommender system or a recommendation system (sometimes replacing \"system\" with a synonym such as platform or engine) is a subclass of information filtering system that seeks to predict the \"rating\" or \"preference\" a user would give to an item.They are primarily used in commercial applications bold text** <br>\n",
        "In this system we have a large no of user vs Movie Id data where, users rated more than one movie according to their preference and system will find some ralation between more than one user and more than one movies and find a abstract function that can try to predict rating for a movie which are not rated by user and according to the rating we will recommend those movies to same user, that may like according to their activity of rating "
      ]
    },
    {
      "cell_type": "code",
      "metadata": {
        "id": "HzgRrPCFWakp",
        "colab": {
          "base_uri": "https://localhost:8080/",
          "height": 70
        },
        "outputId": "a95951a3-cdcb-4fab-8c5f-c075ca827a53"
      },
      "source": [
        "# Importing Data\n",
        "\n",
        "import numpy as np\n",
        "import pandas as pd\n",
        "import matplotlib.pyplot as plt\n",
        "import seaborn as sns\n",
        "from IPython.display import display, clear_output\n",
        "from random import uniform\n",
        "import time\n",
        "from random import randint\n",
        "np.set_printoptions(precision=4)\n",
        "import random\n",
        "import time"
      ],
      "execution_count": null,
      "outputs": [
        {
          "output_type": "stream",
          "text": [
            "/usr/local/lib/python3.6/dist-packages/statsmodels/tools/_testing.py:19: FutureWarning: pandas.util.testing is deprecated. Use the functions in the public API at pandas.testing instead.\n",
            "  import pandas.util.testing as tm\n"
          ],
          "name": "stderr"
        }
      ]
    },
    {
      "cell_type": "code",
      "metadata": {
        "id": "yrZQh7n5i3z7",
        "colab": {
          "base_uri": "https://localhost:8080/",
          "height": 34
        },
        "outputId": "27d3cdb1-4b31-499f-fff1-429ab60bdc74"
      },
      "source": [
        "# Run this cell to mount your Google Drive.\n",
        "from google.colab import drive\n",
        "drive.mount('/content/drive/')"
      ],
      "execution_count": null,
      "outputs": [
        {
          "output_type": "stream",
          "text": [
            "Drive already mounted at /content/drive/; to attempt to forcibly remount, call drive.mount(\"/content/drive/\", force_remount=True).\n"
          ],
          "name": "stdout"
        }
      ]
    },
    {
      "cell_type": "code",
      "metadata": {
        "id": "YIbe0kMsjHBN"
      },
      "source": [
        "#loading data\n",
        "data=pd.read_csv(\"drive/My Drive/Colab Notebooks/Recommended System/ratingsEx.csv\")"
      ],
      "execution_count": null,
      "outputs": []
    },
    {
      "cell_type": "code",
      "metadata": {
        "id": "hOJ_oyUS1Jo3",
        "colab": {
          "base_uri": "https://localhost:8080/",
          "height": 343
        },
        "outputId": "07629995-daf2-49cb-d011-1d456cb86a3c"
      },
      "source": [
        "data.sample(10)"
      ],
      "execution_count": null,
      "outputs": [
        {
          "output_type": "execute_result",
          "data": {
            "text/html": [
              "<div>\n",
              "<style scoped>\n",
              "    .dataframe tbody tr th:only-of-type {\n",
              "        vertical-align: middle;\n",
              "    }\n",
              "\n",
              "    .dataframe tbody tr th {\n",
              "        vertical-align: top;\n",
              "    }\n",
              "\n",
              "    .dataframe thead th {\n",
              "        text-align: right;\n",
              "    }\n",
              "</style>\n",
              "<table border=\"1\" class=\"dataframe\">\n",
              "  <thead>\n",
              "    <tr style=\"text-align: right;\">\n",
              "      <th></th>\n",
              "      <th>userId</th>\n",
              "      <th>movieId</th>\n",
              "      <th>rating</th>\n",
              "    </tr>\n",
              "  </thead>\n",
              "  <tbody>\n",
              "    <tr>\n",
              "      <th>73961</th>\n",
              "      <td>474</td>\n",
              "      <td>3066</td>\n",
              "      <td>3.0</td>\n",
              "    </tr>\n",
              "    <tr>\n",
              "      <th>25532</th>\n",
              "      <td>177</td>\n",
              "      <td>45081</td>\n",
              "      <td>1.0</td>\n",
              "    </tr>\n",
              "    <tr>\n",
              "      <th>48233</th>\n",
              "      <td>312</td>\n",
              "      <td>5881</td>\n",
              "      <td>4.0</td>\n",
              "    </tr>\n",
              "    <tr>\n",
              "      <th>38533</th>\n",
              "      <td>265</td>\n",
              "      <td>592</td>\n",
              "      <td>3.0</td>\n",
              "    </tr>\n",
              "    <tr>\n",
              "      <th>94113</th>\n",
              "      <td>599</td>\n",
              "      <td>6188</td>\n",
              "      <td>3.0</td>\n",
              "    </tr>\n",
              "    <tr>\n",
              "      <th>9543</th>\n",
              "      <td>64</td>\n",
              "      <td>1183</td>\n",
              "      <td>4.0</td>\n",
              "    </tr>\n",
              "    <tr>\n",
              "      <th>30558</th>\n",
              "      <td>213</td>\n",
              "      <td>5419</td>\n",
              "      <td>3.0</td>\n",
              "    </tr>\n",
              "    <tr>\n",
              "      <th>30243</th>\n",
              "      <td>211</td>\n",
              "      <td>57669</td>\n",
              "      <td>4.5</td>\n",
              "    </tr>\n",
              "    <tr>\n",
              "      <th>27969</th>\n",
              "      <td>191</td>\n",
              "      <td>235</td>\n",
              "      <td>5.0</td>\n",
              "    </tr>\n",
              "    <tr>\n",
              "      <th>44537</th>\n",
              "      <td>298</td>\n",
              "      <td>16</td>\n",
              "      <td>4.0</td>\n",
              "    </tr>\n",
              "  </tbody>\n",
              "</table>\n",
              "</div>"
            ],
            "text/plain": [
              "       userId  movieId  rating\n",
              "73961     474     3066     3.0\n",
              "25532     177    45081     1.0\n",
              "48233     312     5881     4.0\n",
              "38533     265      592     3.0\n",
              "94113     599     6188     3.0\n",
              "9543       64     1183     4.0\n",
              "30558     213     5419     3.0\n",
              "30243     211    57669     4.5\n",
              "27969     191      235     5.0\n",
              "44537     298       16     4.0"
            ]
          },
          "metadata": {
            "tags": []
          },
          "execution_count": 5
        }
      ]
    },
    {
      "cell_type": "code",
      "metadata": {
        "id": "h-HDLPYFWspP",
        "colab": {
          "base_uri": "https://localhost:8080/",
          "height": 34
        },
        "outputId": "84e51412-7840-4870-aaca-6f9464e2e843"
      },
      "source": [
        "# change column name\n",
        "data.columns=['userID','movieID','rating']\n",
        "data.shape"
      ],
      "execution_count": null,
      "outputs": [
        {
          "output_type": "execute_result",
          "data": {
            "text/plain": [
              "(100836, 3)"
            ]
          },
          "metadata": {
            "tags": []
          },
          "execution_count": 6
        }
      ]
    },
    {
      "cell_type": "code",
      "metadata": {
        "id": "oytkKrlz0mxd",
        "colab": {
          "base_uri": "https://localhost:8080/",
          "height": 312
        },
        "outputId": "774bb8eb-9c0e-498a-9c42-0d31ac807186"
      },
      "source": [
        "\n",
        "sns.countplot(x='rating',data = data)\n",
        "plt.title('Distribution of rating')"
      ],
      "execution_count": null,
      "outputs": [
        {
          "output_type": "execute_result",
          "data": {
            "text/plain": [
              "Text(0.5, 1.0, 'Distribution of rating')"
            ]
          },
          "metadata": {
            "tags": []
          },
          "execution_count": 7
        },
        {
          "output_type": "display_data",
          "data": {
            "image/png": "[encoded data removed]",
            "text/plain": [
              "<Figure size 432x288 with 1 Axes>"
            ]
          },
          "metadata": {
            "tags": [],
            "needs_background": "light"
          }
        }
      ]
    },
    {
      "cell_type": "code",
      "metadata": {
        "id": "oiLtLzPSmvGC",
        "colab": {
          "base_uri": "https://localhost:8080/",
          "height": 50
        },
        "outputId": "7594eea8-0f80-4c77-805d-d440b3bfe2eb"
      },
      "source": [
        "# the no of user and Movie\n",
        "\n",
        "print(\"Total no of User:- \",len(set(data['userID'])))\n",
        "print(\"Total no of movies\",len(set(data['movieID'])))"
      ],
      "execution_count": null,
      "outputs": [
        {
          "output_type": "stream",
          "text": [
            "Total no of User:-  610\n",
            "Total no of movies 9724\n"
          ],
          "name": "stdout"
        }
      ]
    },
    {
      "cell_type": "code",
      "metadata": {
        "id": "KsqHG5Xcmxq_",
        "colab": {
          "base_uri": "https://localhost:8080/",
          "height": 34
        },
        "outputId": "eba4ec8a-0a82-439d-e45c-98621a6b924b"
      },
      "source": [
        "# this is the Rating matrix that contain column is user and rows is movies\n",
        "\"\"\"    | movie1 | movie2 | movie3 \n",
        " user1  |   5    |    4   |    1\n",
        " user2  |   3    |        |    5\n",
        " user3  |   5    |    3   |    \n",
        "  \n",
        "\"\"\"\n",
        "# the R matrix is boolean matrix that denote user rated that movie or not\n",
        "print()"
      ],
      "execution_count": null,
      "outputs": [
        {
          "output_type": "stream",
          "text": [
            "\n"
          ],
          "name": "stdout"
        }
      ]
    },
    {
      "cell_type": "markdown",
      "metadata": {
        "id": "aE718TTz9bSk"
      },
      "source": [
        "There are 610 users which have rated a least one movie with (0-5) rating parameter. And there are 9724 movies that is rated by the users.<br>\n",
        "This system is using **Matrix factorization** technique to predict users for particular user which haven't rated those users.<br>\n",
        "# Matrix factorization"
      ]
    },
    {
      "cell_type": "markdown",
      "metadata": {
        "id": "FhQE74YpLi_e"
      },
      "source": [
        "![alt text](https://cdn-images-1.medium.com/max/1600/1*Zhm1NMlmVywn0G18w3exog.png)"
      ]
    },
    {
      "cell_type": "markdown",
      "metadata": {
        "id": "m2BFDIuM5hvM"
      },
      "source": [
        "###**The above image does an excellent job of summarizing, the core idea behind matrix factorization. Let there be matrix A with dimensionality of (m,n) this matrix can be viewed as a dot product between two matrix with each matrices having dimensions of (m,k) and (k,n).**"
      ]
    },
    {
      "cell_type": "markdown",
      "metadata": {
        "id": "hV7F3klULJZn"
      },
      "source": [
        "##Matrix factorization is a class of collaborative filtering algorithms used in recommender systems. Matrix factorization algorithms work by decomposing the user-item interaction matrix into the product of two lower dimensionality rectangular matrices.<br>\n",
        "\n",
        "---\n",
        "\n",
        "If we use matrix method to store the rating so it take 610 * 9724 <br>\n",
        "Total entry is about **6000000**.which will take about **356 MB** of RAM if we load the whole matrix at a time in RAM.\n",
        "So, there are several aternative to take of these problem<br>\n",
        "\n",
        "1.   Read in a chunk\n",
        "2. Process the chunk\n",
        "3. Save the results of the chunk\n",
        "4. Repeat steps 1 to 3 until we have all chunk results\n",
        "5. Combine the chunk results\n",
        "\n",
        "But as a good knowledge of Alorithm and datastructure we will take care which out using any type of chunk. we store the matrix in Dictionary. Because, given matrix is sparse matrix and we need to handle only 610 of user and movies combination so Dictionary will play a important role."
      ]
    },
    {
      "cell_type": "code",
      "metadata": {
        "id": "Omx8kkvgm3QL",
        "colab": {
          "base_uri": "https://localhost:8080/",
          "height": 34
        },
        "outputId": "aeb9ec13-8569-4e95-b88d-745e0d03bc80"
      },
      "source": [
        "Rating = dict()\n",
        "for i in range(100836):\n",
        "  Rating[(data['userID'][i],data['movieID'][i])] = data['rating'][i]\n",
        "  if i%10000==0:\n",
        "    clear_output(wait=True)\n",
        "    print(\"complete :- \",i/(1000))"
      ],
      "execution_count": null,
      "outputs": [
        {
          "output_type": "stream",
          "text": [
            "complete :-  100.0\n"
          ],
          "name": "stdout"
        }
      ]
    },
    {
      "cell_type": "markdown",
      "metadata": {
        "id": "4qXVTLcv9zXQ"
      },
      "source": [
        "We don't know about the features of different movies and what type of movies a user like and dislike. We have only rating by a users <br>\n",
        "Lets sppose ***user 1*** give 5 start to ***movie x*** and <br>\n",
        " ***user 2*** also give 5 star to ***movie x***<br>,so by only two rating we can conclude that somehow ***user 1*** and ***user 2*** have similar interest.<br>\n",
        " And if ***user 1*** rated a ***movie y*** to 4 star, So there is large probability that ***user 2*** will also rated ***movie y*** to 4 \n",
        " \n",
        "\n",
        "---\n",
        "\n",
        "So that we assume some features of movies, on the basis of that features a user will predict its rating.<br>\n",
        "Only asigning features for a movie will not help much but we have also some parameters that for a user too.<br>\n",
        "Both the feature of the movies and parameters of a user can solve our problem.<br>\n",
        "And one more things both the parameter and the feature are same in numbers but may different in values.<br>\n",
        "We assigning 5 features for movies and 5 parameters for a user and set a small random value for both features and parameters"
      ]
    },
    {
      "cell_type": "markdown",
      "metadata": {
        "id": "0hjemWq1-B8H"
      },
      "source": [
        "example:-           \n",
        "\n",
        "1.   Action\n",
        "2.   romance\n",
        "3. sci-fi\n",
        "4. documentry\n",
        "5. comedy"
      ]
    },
    {
      "cell_type": "markdown",
      "metadata": {
        "id": "PeRrvJ2m_AkQ"
      },
      "source": [
        "***We will assign a random value for each categories in User And movies Features***\n",
        "\n",
        "\n",
        "---\n",
        "\n",
        "\n",
        "Total no of User is 610 and Songs is 9724 <br> \n",
        "So we create two matrix    USER (610  ,  5) and Song  (9724, 5)"
      ]
    },
    {
      "cell_type": "code",
      "metadata": {
        "id": "setgZqFZ6m69"
      },
      "source": [
        "def randomR():\n",
        "  return round(randint(0,100)/randint(200,300),3)"
      ],
      "execution_count": null,
      "outputs": []
    },
    {
      "cell_type": "markdown",
      "metadata": {
        "id": "qINiv8F4YghQ"
      },
      "source": [
        "**Assigning Random variable to the features and parameters**"
      ]
    },
    {
      "cell_type": "code",
      "metadata": {
        "id": "OjJWBvCp7VYl"
      },
      "source": [
        "\n",
        "USERS = np.array([[randomR() for i in range(5)] for i in range(611)],dtype=np.float128)\n",
        "MOVIES = np.array([[randomR() for i in range(5)] for i in range(9725)],dtype=np.float128)"
      ],
      "execution_count": null,
      "outputs": []
    },
    {
      "cell_type": "markdown",
      "metadata": {
        "id": "BcChDrMuZK4e"
      },
      "source": [
        "***OUR GOAL***\n",
        "\n",
        "We need to find dot product of the features and parameters of a user and a movies to find approximate rating, and accoring to the error we got, we will modify the both features and parameters .<br>\n",
        "We will repeat this step until the error will minimize<br>\n",
        "After the minimization of error we got some specific value in features and parameters. And that help to predict the unrated movies."
      ]
    },
    {
      "cell_type": "markdown",
      "metadata": {
        "id": "eWhTtNa3zejg"
      },
      "source": [
        "### SPLIT DATASET\n",
        "we have datas, store in dictionary. So,and they must be split in two dictionary one is Train set and another is Test set <br>\n",
        "Train set is used to train the model for each Users and Songs, and <br>\n",
        "Test set is used to calcutale the Accuracy of the model ."
      ]
    },
    {
      "cell_type": "code",
      "metadata": {
        "id": "WtHiCTY2zdeu"
      },
      "source": [
        "def splitTrainTest(Dic,x):\n",
        "    S=list(range(len(Dic)))\n",
        "    S=set(random.sample(S,int(len(Dic)*x)))\n",
        "    TrainR={}\n",
        "    TestR={}\n",
        "    index=0\n",
        "    for i in Dic:\n",
        "        if index in S:\n",
        "            TestR[i] = Dic[i]\n",
        "        else:\n",
        "            TrainR[i] = Dic[i]\n",
        "        index+=1\n",
        "    return TrainR,TestR"
      ],
      "execution_count": null,
      "outputs": []
    },
    {
      "cell_type": "code",
      "metadata": {
        "id": "ahvS3-rR0sEa"
      },
      "source": [
        "TrainSet,TestSet = splitTrainTest(Rating,0.3)"
      ],
      "execution_count": null,
      "outputs": []
    },
    {
      "cell_type": "code",
      "metadata": {
        "id": "FAhal_dU1oli",
        "colab": {
          "base_uri": "https://localhost:8080/",
          "height": 34
        },
        "outputId": "ab9e7176-4e15-45e0-c0db-79f8388c6d27"
      },
      "source": [
        "len(TrainSet),len(TestSet)"
      ],
      "execution_count": null,
      "outputs": [
        {
          "output_type": "execute_result",
          "data": {
            "text/plain": [
              "(70586, 30250)"
            ]
          },
          "metadata": {
            "tags": []
          },
          "execution_count": 15
        }
      ]
    },
    {
      "cell_type": "markdown",
      "metadata": {
        "id": "5K09WEUzy0-h"
      },
      "source": [
        "###Index in Dictonary are IDs\n",
        "Indexof dictionary are UserID and MovieID but index in parameter and features are integer so we must have to built a hash function with track the record of index with IDs<br>\n"
      ]
    },
    {
      "cell_type": "code",
      "metadata": {
        "id": "lslp36b4ZI5F"
      },
      "source": [
        "# Indexing for each USERS and SONGS\n",
        "User=list(set(data['userID']))\n",
        "Movie=list(set(data['movieID']))\n",
        "U=dict()\n",
        "M=dict()\n",
        "for i in range(len(User)):\n",
        "    U[User[i]]=i\n",
        "for i in range(len(Movie)):\n",
        "    M[Movie[i]]=i\n"
      ],
      "execution_count": null,
      "outputs": []
    },
    {
      "cell_type": "code",
      "metadata": {
        "id": "hOM1GUaR4Phi"
      },
      "source": [
        "# set parameters and learning rate\n",
        "alpha = 0.01\n",
        "lamda = 0.03\n"
      ],
      "execution_count": null,
      "outputs": []
    },
    {
      "cell_type": "code",
      "metadata": {
        "id": "usglrsBThLSb"
      },
      "source": [
        "def Test():\n",
        "    Accuracy=0\n",
        "    n=len(TestSet)\n",
        "    for x in TestSet:\n",
        "        i=U[x[0]]\n",
        "        j=M[x[1]]\n",
        "        d= sum(USERS[i,:] * MOVIES[j,:])- Rating[x]\n",
        "        Accuracy += d**2\n",
        "    return  (Accuracy/n)**(0.5)\n"
      ],
      "execution_count": null,
      "outputs": []
    },
    {
      "cell_type": "code",
      "metadata": {
        "id": "6amuqJgAibVp"
      },
      "source": [
        "def Train():\n",
        "    Accuracy=0\n",
        "    n=len(TrainSet)\n",
        "    for x in TrainSet:\n",
        "        i=U[x[0]]\n",
        "        j=M[x[1]]\n",
        "        d= sum(USERS[i,:] * MOVIES[j,:])- Rating[x]\n",
        "        Accuracy += d**2\n",
        "    return (Accuracy/n)**(0.5)"
      ],
      "execution_count": null,
      "outputs": []
    },
    {
      "cell_type": "code",
      "metadata": {
        "id": "Za1NF_icM1XU",
        "colab": {
          "base_uri": "https://localhost:8080/",
          "height": 437
        },
        "outputId": "8415435d-4d51-4e32-f364-60265bb9cc20"
      },
      "source": [
        "#learning with collaborating Filtering\n",
        "USERS = np.array([[randomR() for i in range(5)] for i in range(610)],dtype=np.float128)\n",
        "MOVIES = np.array([[randomR() for i in range(5)] for i in range(9724)],dtype=np.float128)\n",
        "E=[]\n",
        "Et=[]\n",
        "tm=0\n",
        "n=len(TrainSet)\n",
        "for itr in range(25):\n",
        "    #error=0\n",
        "    t=time.time()\n",
        "    for x in TrainSet:\n",
        "        i=U[x[0]]\n",
        "        j=M[x[1]]\n",
        "        USERS[i,:] =  USERS[i,:] - alpha * (  (sum(USERS[i,:] * MOVIES[j,:]) - Rating[x]) * MOVIES[j,:] + lamda * USERS[i,:] )\n",
        "        MOVIES[j,:] = MOVIES[j,:] - alpha * (  (sum(USERS[i,:] * MOVIES[j,:]) - Rating[x]) * USERS[i,:] + lamda * MOVIES[j,:] )\n",
        "    \n",
        "    TestError=Test()\n",
        "    TrainError=Train()\n",
        "    E.append(round(TrainError,4))\n",
        "    Et.append(round(TestError,4))\n",
        "    tm=max(tm,time.time()-t)\n",
        "    #clear_output(wait=True)\n",
        "    print(\"Iteration = \",itr+1,\" Time= \",round(tm),\"Error :- \",round(TrainError,4),\" Test :-\",round(TestError,4))\n"
      ],
      "execution_count": null,
      "outputs": [
        {
          "output_type": "stream",
          "text": [
            "Iteration =  1  Time=  2 Error :-  1.9814  Test :- 2.023\n",
            "Iteration =  2  Time=  2 Error :-  1.1837  Test :- 1.2879\n",
            "Iteration =  3  Time=  2 Error :-  1.037  Test :- 1.1667\n",
            "Iteration =  4  Time=  2 Error :-  0.9632  Test :- 1.11\n",
            "Iteration =  5  Time=  2 Error :-  0.9188  Test :- 1.0782\n",
            "Iteration =  6  Time=  2 Error :-  0.8893  Test :- 1.0587\n",
            "Iteration =  7  Time=  2 Error :-  0.8682  Test :- 1.0461\n",
            "Iteration =  8  Time=  2 Error :-  0.8521  Test :- 1.0375\n",
            "Iteration =  9  Time=  2 Error :-  0.8393  Test :- 1.0316\n",
            "Iteration =  10  Time=  2 Error :-  0.8285  Test :- 1.0275\n",
            "Iteration =  11  Time=  2 Error :-  0.819  Test :- 1.0245\n",
            "Iteration =  12  Time=  2 Error :-  0.8105  Test :- 1.0225\n",
            "Iteration =  13  Time=  2 Error :-  0.8025  Test :- 1.0211\n",
            "Iteration =  14  Time=  2 Error :-  0.795  Test :- 1.0202\n",
            "Iteration =  15  Time=  2 Error :-  0.7878  Test :- 1.0197\n",
            "Iteration =  16  Time=  2 Error :-  0.7809  Test :- 1.0196\n",
            "Iteration =  17  Time=  2 Error :-  0.7743  Test :- 1.0197\n",
            "Iteration =  18  Time=  2 Error :-  0.7678  Test :- 1.02\n",
            "Iteration =  19  Time=  2 Error :-  0.7616  Test :- 1.0206\n",
            "Iteration =  20  Time=  2 Error :-  0.7557  Test :- 1.0213\n",
            "Iteration =  21  Time=  2 Error :-  0.75  Test :- 1.0221\n",
            "Iteration =  22  Time=  2 Error :-  0.7446  Test :- 1.023\n",
            "Iteration =  23  Time=  2 Error :-  0.7394  Test :- 1.024\n",
            "Iteration =  24  Time=  2 Error :-  0.7345  Test :- 1.025\n",
            "Iteration =  25  Time=  2 Error :-  0.7299  Test :- 1.0261\n"
          ],
          "name": "stdout"
        }
      ]
    },
    {
      "cell_type": "markdown",
      "metadata": {
        "id": "7Ag20ny9Qk5U"
      },
      "source": [
        "**This graph shows the rate of learning with respect to the no of iteration**<br>\n",
        "Orange line shows RMSE with Train data<br>\n",
        "Blue line shows RMSE with Test Data"
      ]
    },
    {
      "cell_type": "code",
      "metadata": {
        "id": "YZOClb1aX9Bj",
        "colab": {
          "base_uri": "https://localhost:8080/",
          "height": 279
        },
        "outputId": "e1367422-ba57-45b3-a065-89fc4a3c0ada"
      },
      "source": [
        "plt.plot(Et)\n",
        "plt.plot(E)\n",
        "plt.xlabel(\"number of Iteration\")\n",
        "plt.ylabel(\"Error\")\n",
        "plt.show()"
      ],
      "execution_count": null,
      "outputs": [
        {
          "output_type": "display_data",
          "data": {
            "image/png": "[encoded data removed]",
            "text/plain": [
              "<Figure size 432x288 with 1 Axes>"
            ]
          },
          "metadata": {
            "tags": [],
            "needs_background": "light"
          }
        }
      ]
    },
    {
      "cell_type": "markdown",
      "metadata": {
        "id": "yKg5rhcrRMBM"
      },
      "source": [
        "We will observe that now if we increase the no of iteration then Training error will decrease but Test error will be static <br>\n",
        "After iteration 10 the Test Error have Straight line w.r.t iteration so in no need to increase iteration <br>\n"
      ]
    },
    {
      "cell_type": "markdown",
      "metadata": {
        "id": "HILysG8YFBh4"
      },
      "source": [
        "## Test the result\n",
        "we have build the model, and this is the right time to display the acuracy "
      ]
    },
    {
      "cell_type": "code",
      "metadata": {
        "id": "81dUMfVkM080",
        "colab": {
          "base_uri": "https://localhost:8080/",
          "height": 34
        },
        "outputId": "f5665f4e-29e2-4439-8a1d-97e6a0bde592"
      },
      "source": [
        "# Using RMSE\n",
        "Accuracy=0\n",
        "n=len(TrainSet)\n",
        "for x in TrainSet:\n",
        "    i=U[x[0]]\n",
        "    j=M[x[1]]\n",
        "    d= sum(USERS[i,:] * MOVIES[j,:])- Rating[x]\n",
        "    Accuracy += d**2\n",
        "print(\"RMSE :- \",(Accuracy/n)**(0.5))"
      ],
      "execution_count": null,
      "outputs": [
        {
          "output_type": "stream",
          "text": [
            "RMSE :-  0.7298772309326714483\n"
          ],
          "name": "stdout"
        }
      ]
    },
    {
      "cell_type": "code",
      "metadata": {
        "id": "76PgdpvkZItq",
        "colab": {
          "base_uri": "https://localhost:8080/",
          "height": 34
        },
        "outputId": "ff46ddfb-09d3-4250-b2d0-03262b3fd932"
      },
      "source": [
        "# Using RMSE\n",
        "Accuracy=0\n",
        "predictR=[]\n",
        "n=len(TestSet)\n",
        "for x in TestSet:\n",
        "    i=U[x[0]]\n",
        "    j=M[x[1]]\n",
        "    d= sum(USERS[i,:] * MOVIES[j,:])- Rating[x]\n",
        "    predictR.append(sum(USERS[i,:] * MOVIES[j,:]))\n",
        "    Accuracy += d**2\n",
        "print(\"RMSE :- \",(Accuracy/n)**(0.5))"
      ],
      "execution_count": null,
      "outputs": [
        {
          "output_type": "stream",
          "text": [
            "RMSE :-  1.0261192148698480144\n"
          ],
          "name": "stdout"
        }
      ]
    },
    {
      "cell_type": "code",
      "metadata": {
        "id": "9oIuvQOTHbdq",
        "colab": {
          "base_uri": "https://localhost:8080/",
          "height": 185
        },
        "outputId": "63736ce1-a443-497d-e83a-821c781687e7"
      },
      "source": [
        "predictR[0:10]"
      ],
      "execution_count": null,
      "outputs": [
        {
          "output_type": "execute_result",
          "data": {
            "text/plain": [
              "[4.6878777244913579746,\n",
              " 4.109606450721735976,\n",
              " 4.4173858902949238716,\n",
              " 4.064076780953337172,\n",
              " 3.5413016873666201673,\n",
              " 4.7705763037815480053,\n",
              " 4.8544739085893023438,\n",
              " 4.3303648177011760576,\n",
              " 4.5787982041133173357,\n",
              " 4.4662081676622471397]"
            ]
          },
          "metadata": {
            "tags": []
          },
          "execution_count": 24
        }
      ]
    },
    {
      "cell_type": "markdown",
      "metadata": {
        "id": "_uxE4EhfFNF_"
      },
      "source": [
        "## Lets Recommend some movie for a user\n"
      ]
    },
    {
      "cell_type": "markdown",
      "metadata": {
        "id": "lD0_KUklFUWg"
      },
      "source": [
        "we choose random user and Reccomend the 10 movie on the basis of there interest"
      ]
    },
    {
      "cell_type": "code",
      "metadata": {
        "id": "ScyB2JctHbVU"
      },
      "source": [
        "\n",
        "P=[]\n",
        "i=U[random.choice(User)]\n",
        "for x in range(9724):\n",
        "    j=M[Movie[x]]\n",
        "    P.append(sum(USERS[i,:] * MOVIES[j,:]))\n",
        "Result=pd.DataFrame({\"movie\":Movie,\"Prediction\":P})\n",
        "bins = pd.cut(Result['Prediction'], [0, 1.5, 2.5, 3.5, 4.5,6],labels=[1,2,3,4,5])\n",
        "Result[\"rating\"]=bins\n",
        "    "
      ],
      "execution_count": null,
      "outputs": []
    },
    {
      "cell_type": "code",
      "metadata": {
        "id": "iSPC5AN6ZIPE",
        "colab": {
          "base_uri": "https://localhost:8080/",
          "height": 343
        },
        "outputId": "667b0b42-89ae-495a-ed0e-9ebeec1ab5fc"
      },
      "source": [
        "Result.sample(10)\n"
      ],
      "execution_count": null,
      "outputs": [
        {
          "output_type": "execute_result",
          "data": {
            "text/html": [
              "<div>\n",
              "<style scoped>\n",
              "    .dataframe tbody tr th:only-of-type {\n",
              "        vertical-align: middle;\n",
              "    }\n",
              "\n",
              "    .dataframe tbody tr th {\n",
              "        vertical-align: top;\n",
              "    }\n",
              "\n",
              "    .dataframe thead th {\n",
              "        text-align: right;\n",
              "    }\n",
              "</style>\n",
              "<table border=\"1\" class=\"dataframe\">\n",
              "  <thead>\n",
              "    <tr style=\"text-align: right;\">\n",
              "      <th></th>\n",
              "      <th>movie</th>\n",
              "      <th>Prediction</th>\n",
              "      <th>rating</th>\n",
              "    </tr>\n",
              "  </thead>\n",
              "  <tbody>\n",
              "    <tr>\n",
              "      <th>5002</th>\n",
              "      <td>6245</td>\n",
              "      <td>3.106552</td>\n",
              "      <td>3</td>\n",
              "    </tr>\n",
              "    <tr>\n",
              "      <th>666</th>\n",
              "      <td>743</td>\n",
              "      <td>2.840016</td>\n",
              "      <td>3</td>\n",
              "    </tr>\n",
              "    <tr>\n",
              "      <th>7885</th>\n",
              "      <td>184349</td>\n",
              "      <td>2.772031</td>\n",
              "      <td>3</td>\n",
              "    </tr>\n",
              "    <tr>\n",
              "      <th>9268</th>\n",
              "      <td>193567</td>\n",
              "      <td>1.308033</td>\n",
              "      <td>1</td>\n",
              "    </tr>\n",
              "    <tr>\n",
              "      <th>4067</th>\n",
              "      <td>4849</td>\n",
              "      <td>4.037183</td>\n",
              "      <td>4</td>\n",
              "    </tr>\n",
              "    <tr>\n",
              "      <th>6972</th>\n",
              "      <td>45726</td>\n",
              "      <td>2.617487</td>\n",
              "      <td>3</td>\n",
              "    </tr>\n",
              "    <tr>\n",
              "      <th>9556</th>\n",
              "      <td>31698</td>\n",
              "      <td>0.954080</td>\n",
              "      <td>1</td>\n",
              "    </tr>\n",
              "    <tr>\n",
              "      <th>4056</th>\n",
              "      <td>4833</td>\n",
              "      <td>3.535178</td>\n",
              "      <td>4</td>\n",
              "    </tr>\n",
              "    <tr>\n",
              "      <th>6985</th>\n",
              "      <td>111384</td>\n",
              "      <td>1.276347</td>\n",
              "      <td>1</td>\n",
              "    </tr>\n",
              "    <tr>\n",
              "      <th>6768</th>\n",
              "      <td>165103</td>\n",
              "      <td>3.770534</td>\n",
              "      <td>4</td>\n",
              "    </tr>\n",
              "  </tbody>\n",
              "</table>\n",
              "</div>"
            ],
            "text/plain": [
              "       movie  Prediction rating\n",
              "5002    6245    3.106552      3\n",
              "666      743    2.840016      3\n",
              "7885  184349    2.772031      3\n",
              "9268  193567    1.308033      1\n",
              "4067    4849    4.037183      4\n",
              "6972   45726    2.617487      3\n",
              "9556   31698    0.954080      1\n",
              "4056    4833    3.535178      4\n",
              "6985  111384    1.276347      1\n",
              "6768  165103    3.770534      4"
            ]
          },
          "metadata": {
            "tags": []
          },
          "execution_count": 26
        }
      ]
    },
    {
      "cell_type": "markdown",
      "metadata": {
        "id": "DF8q5i3rNsh5"
      },
      "source": [
        ""
      ]
    },
    {
      "cell_type": "markdown",
      "metadata": {
        "id": "IJCgzX5cP40L"
      },
      "source": [
        "**We will find movie which is maximum Rated by user and recommend to that User**"
      ]
    },
    {
      "cell_type": "code",
      "metadata": {
        "id": "QCptB_HyOgRq",
        "colab": {
          "base_uri": "https://localhost:8080/",
          "height": 34
        },
        "outputId": "71f40fd2-79a6-45cb-df09-c28430267d7a"
      },
      "source": [
        "len(USERS)"
      ],
      "execution_count": null,
      "outputs": [
        {
          "output_type": "execute_result",
          "data": {
            "text/plain": [
              "610"
            ]
          },
          "metadata": {
            "tags": []
          },
          "execution_count": 27
        }
      ]
    },
    {
      "cell_type": "code",
      "metadata": {
        "id": "BVy-pxH_OgUB",
        "colab": {
          "base_uri": "https://localhost:8080/",
          "height": 34
        },
        "outputId": "62f54db7-1944-430c-ff37-2de0d1c68023"
      },
      "source": [
        "len(MOVIES)"
      ],
      "execution_count": null,
      "outputs": [
        {
          "output_type": "execute_result",
          "data": {
            "text/plain": [
              "9724"
            ]
          },
          "metadata": {
            "tags": []
          },
          "execution_count": 28
        }
      ]
    },
    {
      "cell_type": "code",
      "metadata": {
        "id": "wLX3oAIGOgOz"
      },
      "source": [
        "\n",
        "DATAMOVIE = {}\n",
        "for i in range(9724):\n",
        "    DATAMOVIE[i] = list([Movie[i]]) + list(MOVIES[M[Movie[i]]]) "
      ],
      "execution_count": null,
      "outputs": []
    },
    {
      "cell_type": "code",
      "metadata": {
        "id": "MCj67MHN7ABJ"
      },
      "source": [
        "DATAUSER = {}\n",
        "for i in range(610):\n",
        "    DATAUSER[i] = list([User[i]]) + list(USERS[U[User[i]]])"
      ],
      "execution_count": null,
      "outputs": []
    },
    {
      "cell_type": "code",
      "metadata": {
        "id": "Bza0PX89EOkk"
      },
      "source": [
        "ufinal = pd.DataFrame(list(DATAUSER.items()))\n",
        "mfinal = pd.DataFrame(list(DATAMOVIE.items()))"
      ],
      "execution_count": null,
      "outputs": []
    },
    {
      "cell_type": "code",
      "metadata": {
        "id": "Y1vuKTFTEO2L"
      },
      "source": [
        "ufinal.to_csv('USER.csv',index=False)\n",
        "mfinal.to_csv('MOVIES.csv',index=False)"
      ],
      "execution_count": null,
      "outputs": []
    },
    {
      "cell_type": "code",
      "metadata": {
        "id": "9VLFd-P-EPOb",
        "colab": {
          "base_uri": "https://localhost:8080/",
          "height": 343
        },
        "outputId": "6d031a42-84f2-4e26-89f7-7abdab833a9c"
      },
      "source": [
        "mfinal.sample(10)"
      ],
      "execution_count": null,
      "outputs": [
        {
          "output_type": "execute_result",
          "data": {
            "text/html": [
              "<div>\n",
              "<style scoped>\n",
              "    .dataframe tbody tr th:only-of-type {\n",
              "        vertical-align: middle;\n",
              "    }\n",
              "\n",
              "    .dataframe tbody tr th {\n",
              "        vertical-align: top;\n",
              "    }\n",
              "\n",
              "    .dataframe thead th {\n",
              "        text-align: right;\n",
              "    }\n",
              "</style>\n",
              "<table border=\"1\" class=\"dataframe\">\n",
              "  <thead>\n",
              "    <tr style=\"text-align: right;\">\n",
              "      <th></th>\n",
              "      <th>0</th>\n",
              "      <th>1</th>\n",
              "    </tr>\n",
              "  </thead>\n",
              "  <tbody>\n",
              "    <tr>\n",
              "      <th>5487</th>\n",
              "      <td>5487</td>\n",
              "      <td>[6984, 0.67318620453079499043, 0.7703400351021...</td>\n",
              "    </tr>\n",
              "    <tr>\n",
              "      <th>8216</th>\n",
              "      <td>8216</td>\n",
              "      <td>[56003, 0.5803298317490104103, 0.5068543923449...</td>\n",
              "    </tr>\n",
              "    <tr>\n",
              "      <th>3545</th>\n",
              "      <td>3545</td>\n",
              "      <td>[4184, 0.53184509856384741235, 0.6146619579008...</td>\n",
              "    </tr>\n",
              "    <tr>\n",
              "      <th>5066</th>\n",
              "      <td>5066</td>\n",
              "      <td>[71867, 0.30149167860076579283, 0.605996709902...</td>\n",
              "    </tr>\n",
              "    <tr>\n",
              "      <th>2195</th>\n",
              "      <td>2195</td>\n",
              "      <td>[2575, 0.5425221050365490045, 0.88795620317272...</td>\n",
              "    </tr>\n",
              "    <tr>\n",
              "      <th>5686</th>\n",
              "      <td>5686</td>\n",
              "      <td>[7235, 0.57546092407306995327, 0.6533161046781...</td>\n",
              "    </tr>\n",
              "    <tr>\n",
              "      <th>8369</th>\n",
              "      <td>8369</td>\n",
              "      <td>[155892, 0.21282595841233919398, 0.22499934779...</td>\n",
              "    </tr>\n",
              "    <tr>\n",
              "      <th>4946</th>\n",
              "      <td>4946</td>\n",
              "      <td>[104457, 0.6885540534310077527, 0.396758044363...</td>\n",
              "    </tr>\n",
              "    <tr>\n",
              "      <th>9352</th>\n",
              "      <td>9352</td>\n",
              "      <td>[63082, 0.75784062572178047533, 0.599533830770...</td>\n",
              "    </tr>\n",
              "    <tr>\n",
              "      <th>8277</th>\n",
              "      <td>8277</td>\n",
              "      <td>[89492, 0.7265918003286484146, 0.4398185577963...</td>\n",
              "    </tr>\n",
              "  </tbody>\n",
              "</table>\n",
              "</div>"
            ],
            "text/plain": [
              "         0                                                  1\n",
              "5487  5487  [6984, 0.67318620453079499043, 0.7703400351021...\n",
              "8216  8216  [56003, 0.5803298317490104103, 0.5068543923449...\n",
              "3545  3545  [4184, 0.53184509856384741235, 0.6146619579008...\n",
              "5066  5066  [71867, 0.30149167860076579283, 0.605996709902...\n",
              "2195  2195  [2575, 0.5425221050365490045, 0.88795620317272...\n",
              "5686  5686  [7235, 0.57546092407306995327, 0.6533161046781...\n",
              "8369  8369  [155892, 0.21282595841233919398, 0.22499934779...\n",
              "4946  4946  [104457, 0.6885540534310077527, 0.396758044363...\n",
              "9352  9352  [63082, 0.75784062572178047533, 0.599533830770...\n",
              "8277  8277  [89492, 0.7265918003286484146, 0.4398185577963..."
            ]
          },
          "metadata": {
            "tags": []
          },
          "execution_count": 35
        }
      ]
    },
    {
      "cell_type": "code",
      "metadata": {
        "id": "F_45K1IIEOta",
        "colab": {
          "base_uri": "https://localhost:8080/",
          "height": 118
        },
        "outputId": "d0972421-f206-4581-b822-0510297088f4"
      },
      "source": [
        "list([Movie[2980]]) + list(MOVIES[M[Movie[2980]]])"
      ],
      "execution_count": null,
      "outputs": [
        {
          "output_type": "execute_result",
          "data": {
            "text/plain": [
              "[3513,\n",
              " 0.5350202597028164335,\n",
              " 0.2733523280645941586,\n",
              " 0.6498551612264985615,\n",
              " 0.6423488588238051362,\n",
              " 0.28710091261982649224]"
            ]
          },
          "metadata": {
            "tags": []
          },
          "execution_count": 34
        }
      ]
    }
  ]
}
